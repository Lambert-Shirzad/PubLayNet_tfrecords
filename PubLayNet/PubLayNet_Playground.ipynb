{
 "cells": [
  {
   "cell_type": "code",
   "execution_count": null,
   "metadata": {},
   "outputs": [],
   "source": [
    "from matplotlib import pyplot as plt\n",
    "%matplotlib inline\n",
    "from PIL import Image\n",
    "import json\n",
    "from glob import glob\n",
    "import numpy as np\n",
    "import tensorflow as tf"
   ]
  },
  {
   "cell_type": "code",
   "execution_count": null,
   "metadata": {},
   "outputs": [],
   "source": [
    "with open('dev.json', 'r') as fp:\n",
    "    devsamples = json.load(fp)\n",
    "json_sample = devsamples\n",
    "print(len(json_sample['images']))\n",
    "print(json_sample.keys())\n",
    "for i in range(2):\n",
    "    print('#####')\n",
    "    print(json_sample['images'][i])"
   ]
  },
  {
   "cell_type": "code",
   "execution_count": null,
   "metadata": {},
   "outputs": [],
   "source": [
    "images = {}\n",
    "for image in devsamples['images']:\n",
    "    images[image['id']] = {'file_name': image['file_name'], \n",
    "                           'width': image['width'], \n",
    "                           'height': image['height'], \n",
    "                           'annotations': []}\n",
    "for ann in devsamples['annotations']:\n",
    "    images[ann['image_id']]['annotations'].append(ann)"
   ]
  },
  {
   "cell_type": "code",
   "execution_count": null,
   "metadata": {},
   "outputs": [],
   "source": [
    "print(len(images.keys()))\n",
    "h, w = [], []\n",
    "for img_id in list(images):\n",
    "    w.append(images[img_id]['width'])\n",
    "    h.append(images[img_id]['height'])\n",
    "\n",
    "print('max w', np.max(w), 'max h', np.max(h))\n",
    "plt.hist(w, 20)\n",
    "plt.show()\n",
    "plt.hist(h, 20)\n",
    "plt.show()\n"
   ]
  },
  {
   "cell_type": "code",
   "execution_count": null,
   "metadata": {},
   "outputs": [],
   "source": [
    "\n",
    "print(len(images.keys()))\n",
    "for img_id in list(images)[:2]:\n",
    "    print('CCCCCCCCCCCCCC')\n",
    "    print(images[img_id])\n",
    "    seg_mask = np.zeros((images[img_id]['width'],images[img_id]['height']), dtype=int)\n",
    "    \n",
    "    orig_img = np.array(Image.open(images[img_id]['file_name']).convert('RGB'))\n",
    "    orig_img = orig_img.T\n",
    "    \n",
    "    for ann in images[img_id]['annotations']:\n",
    "        #print(type(ann['bbox']), ann['bbox'][0])\n",
    "        current_bbox = np.asarray(ann['bbox'], dtype = np.int32)\n",
    "        x1, x2 = current_bbox[0], current_bbox[0] + current_bbox[2]\n",
    "        y1, y2 = current_bbox[1], current_bbox[1] + current_bbox[3]\n",
    "        seg_mask[x1:x2, y1:y2] = ann['category_id']*40\n",
    "        \n",
    "        seg_mask[x1, y1:y2] = 255\n",
    "        seg_mask[x2, y1:y2] = 255\n",
    "        seg_mask[x1:x2, y1] = 255\n",
    "        seg_mask[x1:x2, y2] = 255\n",
    "        \n",
    "        orig_img[:, x1-1, y1-1:y2+1] = 100\n",
    "        orig_img[:, x2+1, y1-1:y2+1] = 100\n",
    "        orig_img[:, x1-1:x2+1, y1-1] = 100\n",
    "        orig_img[:, x1-1:x2+1, y2+1] = 100\n",
    "        \n",
    "    orig_img = Image.fromarray(orig_img.T.astype(dtype=np.uint8),mode='RGB')\n",
    "    with tf.gfile.Open(images[img_id]['file_name'][:-4]+'mod1.jpg', mode='w') as f:\n",
    "        orig_img.save(f, 'JPEG')    \n",
    "\n",
    "    seg_mask = seg_mask.T    \n",
    "    seg_img = Image.fromarray(seg_mask.astype(dtype=np.uint8))\n",
    "    segfilename = 'SegmentationClass/'+images[img_id]['file_name'][:-4]+'.png'\n",
    "    with tf.gfile.Open(segfilename, mode='w') as f:\n",
    "        seg_img.save(f, 'PNG')"
   ]
  },
  {
   "cell_type": "code",
   "execution_count": null,
   "metadata": {},
   "outputs": [],
   "source": [
    "import glob\n",
    "path = 'test/'\n",
    "\n",
    "files = [f for f in glob.glob(path + \"**/*.pdf\", recursive=True)]\n",
    "print(type(files))\n",
    "print(len(files))\n",
    "for f in files:\n",
    "    print(f)\n",
    "file_names = [f.split('/')[-1].split('.')[-2] for f in files]\n",
    "print(file_names)\n",
    "print()"
   ]
  }
 ],
 "metadata": {
  "kernelspec": {
   "display_name": "Python 3",
   "language": "python",
   "name": "python3"
  },
  "language_info": {
   "codemirror_mode": {
    "name": "ipython",
    "version": 3
   },
   "file_extension": ".py",
   "mimetype": "text/x-python",
   "name": "python",
   "nbconvert_exporter": "python",
   "pygments_lexer": "ipython3",
   "version": "3.7.4"
  }
 },
 "nbformat": 4,
 "nbformat_minor": 4
}
